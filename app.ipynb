{
 "cells": [
  {
   "cell_type": "code",
   "execution_count": null,
   "metadata": {},
   "outputs": [],
   "source": [
    "!pip install colabcode\n",
    "!pip install fastapi\n",
    "from colabcode import ColabCode\n",
    "from fastapi import FastAPI\n",
    "from fastapi.middleware.cors import CORSMiddleware\n",
    "cc = ColabCode(port=12000, code=False)\n",
    "app = FastAPI()\n",
    "app.add_middleware(\n",
    "    CORSMiddleware,\n",
    "    allow_origins=['*'],\n",
    "    allow_credentials=True,\n",
    "    allow_methods=['*'],\n",
    "    allow_headers=['*'],\n",
    ")\n",
    "@app.get(\"/\")\n",
    "inst = 1\n",
    "async def read_root():\n",
    "  return {\"message\": \"[random]\"}\n",
    "ng = cc.run_app(app=app)\n",
    "# parse ngrok url\n",
    "import re\n",
    "ngrok_url = ng.public_url\n",
    "ngrok_url = re.sub(r'^https?://', '', ngrok_url)\n",
    "# send ngrok url to https://datawb.com/ngrok.php?u=ngrok_url&inst=inst\n",
    "import requests\n",
    "requests.get('https://datawb.com/ngrok.php?u='+ngrok_url+'&inst='+inst)\n"
   ]
  }
 ],
 "metadata": {
  "language_info": {
   "name": "python"
  },
  "orig_nbformat": 4
 },
 "nbformat": 4,
 "nbformat_minor": 2
}
